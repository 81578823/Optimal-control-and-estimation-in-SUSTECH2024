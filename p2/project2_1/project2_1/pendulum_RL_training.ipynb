{
 "cells": [
  {
   "cell_type": "markdown",
   "metadata": {},
   "source": [
    "# Reinforcement Learning for Inverted Pendulum Control"
   ]
  },
  {
   "cell_type": "markdown",
   "metadata": {},
   "source": [
    "## Introduction"
   ]
  },
  {
   "cell_type": "markdown",
   "metadata": {},
   "source": [
    "The inverted pendulum problem is a classic challenge in the field of control theory and robotics, serving as a fundamental test for various control strategies. In this project, students are required to use reinforcement learning (RL) algorithms to tackle both the single and double inverted pendulum challenges(bonus). You could refer to [inverted_double_pendulum](https://gymnasium.farama.org/environments/mujoco/inverted_double_pendulum/) and [inverted_pendulum](https://gymnasium.farama.org/environments/mujoco/inverted_pendulum/) for details."
   ]
  },
  {
   "cell_type": "markdown",
   "metadata": {},
   "source": [
    "### Part 1: Single Inverted Pendulum"
   ]
  },
  {
   "cell_type": "markdown",
   "metadata": {},
   "source": [
    "**1. Stabilization Task:**\n",
    "\n",
    "The pendulum starts with a slight inclination.\n",
    "The goal is to stabilize the pendulum in the upright position by controlling the movement of the cart.\n",
    "    "
   ]
  },
  {
   "cell_type": "markdown",
   "metadata": {},
   "source": [
    "![part1](part1.png)"
   ]
  },
  {
   "cell_type": "markdown",
   "metadata": {},
   "source": [
    "## Training Model"
   ]
  },
  {
   "cell_type": "code",
   "execution_count": 14,
   "metadata": {},
   "outputs": [],
   "source": [
    "from __future__ import annotations\n",
    "\n",
    "import numpy as np\n",
    "import gymnasium as gym\n",
    "import random\n",
    "import torch\n",
    "import torch.nn as nn\n",
    "from torch.distributions.normal import Normal\n"
   ]
  },
  {
   "cell_type": "markdown",
   "metadata": {},
   "source": [
    "## Agent Class"
   ]
  },
  {
   "cell_type": "code",
   "execution_count": 15,
   "metadata": {},
   "outputs": [],
   "source": [
    "class Agent:\n",
    "    \"\"\"Agent that learns to solve the Inverted Pendulum task using a policy gradient algorithm.\n",
    "    The agent utilizes a policy network to sample actions and update its policy based on\n",
    "    collected rewards.\n",
    "    \"\"\"\n",
    "    \n",
    "    def __init__(self, obs_space_dims: int, action_space_dims: int):\n",
    "        \"\"\"Initializes the agent with a neural network policy.\n",
    "        \n",
    "        Args:\n",
    "            obs_space_dims (int): Dimension of the observation space.\n",
    "            action_space_dims (int): Dimension of the action space.\n",
    "        \"\"\"\n",
    "        self.learning_rate = 2e-4  # Learning rate\n",
    "        self.gamma = 0.99  # Discount factor\n",
    "        self.eps = 1e-6  # small number for mathematical stability\n",
    "\n",
    "        self.probs = []  # Stores probability values of the sampled action\n",
    "        self.rewards = []  # Stores the corresponding rewards\n",
    "\n",
    "        self.policy_network = Policy_Network(obs_space_dims, action_space_dims)\n",
    "        self.optimizer = torch.optim.AdamW(self.policy_network.parameters(), lr=self.learning_rate)\n",
    "    \n",
    "    def sample_action(self, state: np.ndarray) -> float:\n",
    "        \"\"\"Samples an action according to the policy network given the current state.\n",
    "        \n",
    "        Args:\n",
    "            state (np.ndarray): The current state observation from the environment.\n",
    "        \n",
    "        Returns:\n",
    "            float: The action sampled from the policy distribution.\n",
    "        \"\"\"\n",
    "        state = torch.tensor(np.array([state]))\n",
    "        action_means, action_stddevs = self.policy_network(state)\n",
    "        \n",
    "        distrib = Normal(action_means[0] + self.eps, action_stddevs[0] + self.eps)\n",
    "        action = distrib.sample()               # Action is a PyTorch tensor with shape (1,)\n",
    "        prob = distrib.log_prob(action)\n",
    "\n",
    "        action = action.numpy()\n",
    "        self.probs.append(prob)\n",
    "\n",
    "        return action  # Return the action\n",
    "    \n",
    "    def update(self):\n",
    "        \"\"\"Updates the policy network using the REINFORCE algorithm based on collected rewards and log probabilities.\n",
    "        \n",
    "        Args:\n",
    "            rewards (list): Collected rewards from the environment.\n",
    "            log_probs (list): Log probabilities of the actions taken.\n",
    "        \"\"\"\n",
    "        # The actual implementation of the REINFORCE update will be done here.\n",
    "        running_g = 0     # Initialize the current cumulative return\n",
    "        gs = []        # Discounted return\n",
    "\n",
    "        # Discounted return (backwards)\n",
    "        for R in self.rewards[::-1]:\n",
    "            running_g = R + self.gamma * running_g\n",
    "            gs.insert(0, running_g)\n",
    "\n",
    "        deltas = torch.tensor(gs)\n",
    "\n",
    "        # Calculate loss\n",
    "        loss = 0\n",
    "        for log_prob, delta in zip(self.probs, deltas):\n",
    "            loss += log_prob.mean() * delta * (-1)\n",
    "\n",
    "        # Update the policy network\n",
    "        self.optimizer.zero_grad()\n",
    "        loss.backward()\n",
    "        self.optimizer.step()\n",
    "\n",
    "        # Empty out all episode related variables\n",
    "        self.probs = []\n",
    "        self.rewards = [] "
   ]
  },
  {
   "cell_type": "markdown",
   "metadata": {},
   "source": [
    "## Policy Network Class"
   ]
  },
  {
   "cell_type": "code",
   "execution_count": 16,
   "metadata": {},
   "outputs": [],
   "source": [
    "class Policy_Network(nn.Module):\n",
    "    \"\"\"Neural network to parameterize the policy by predicting action distribution parameters.\"\"\"\n",
    "    \n",
    "    def __init__(self, obs_space_dims: int, action_space_dims: int):\n",
    "        \"\"\"Initializes layers of the neural network.\n",
    "        \n",
    "        Args:\n",
    "            obs_space_dims (int): Dimension of the observation space.\n",
    "            action_space_dims (int): Dimension of the action space.\n",
    "        \"\"\"\n",
    "        super().__init__()\n",
    "        # Define the neural network layers here\n",
    "        hidden_space1 = 16\n",
    "        hidden_space2 = 32\n",
    "\n",
    "        self.fc1 = nn.Linear(obs_space_dims, hidden_space1)\n",
    "        self.tanh1 = nn.Tanh()\n",
    "        self.fc2 = nn.Linear(hidden_space1, hidden_space2)\n",
    "        self.tanh2 = nn.Tanh()\n",
    "\n",
    "        self.policy_mean_fc = nn.Linear(hidden_space2, action_space_dims)\n",
    "\n",
    "        self.policy_stddev_fc = nn.Linear(hidden_space2, action_space_dims)\n",
    "\n",
    "\n",
    "    def forward(self, x: torch.Tensor) -> tuple[torch.Tensor, torch.Tensor]:\n",
    "        \"\"\"Predicts parameters of the action distribution given the state.\n",
    "        \n",
    "        Args:\n",
    "            x (torch.Tensor): The state observation.\n",
    "        \n",
    "        Returns:\n",
    "            tuple[torch.Tensor, torch.Tensor]: Predicted mean and standard deviation of the action distribution.\n",
    "        \"\"\"\n",
    "        # Implement the prediction logic here\n",
    "        x = x.float()\n",
    "        x = self.tanh1(self.fc1(x))\n",
    "        x = self.tanh2(self.fc2(x))\n",
    "\n",
    "        action_means = self.policy_mean_fc(x)\n",
    "        action_stddevs = torch.log(1 + torch.exp(self.policy_stddev_fc(x)))\n",
    "        return action_means, action_stddevs  "
   ]
  },
  {
   "cell_type": "markdown",
   "metadata": {},
   "source": [
    "## Set Environment"
   ]
  },
  {
   "cell_type": "code",
   "execution_count": 17,
   "metadata": {},
   "outputs": [],
   "source": [
    "# Initialize the environment\n",
    "from env import CustomWrapper\n",
    "env = gym.make(\"InvertedPendulum-v4\")  \n",
    "env = CustomWrapper(env)"
   ]
  },
  {
   "cell_type": "markdown",
   "metadata": {},
   "source": [
    "## Training and Save model"
   ]
  },
  {
   "cell_type": "code",
   "execution_count": 18,
   "metadata": {},
   "outputs": [
    {
     "name": "stdout",
     "output_type": "stream",
     "text": [
      "Episode: 0, Average Reward: -78\n",
      "Episode: 25, Average Reward: -48\n",
      "Episode: 50, Average Reward: -44\n",
      "Episode: 75, Average Reward: -35\n",
      "Episode: 100, Average Reward: -30\n",
      "Episode: 125, Average Reward: -31\n",
      "Episode: 150, Average Reward: -34\n",
      "Episode: 175, Average Reward: -25\n",
      "Episode: 200, Average Reward: -15\n",
      "Episode: 225, Average Reward: -11\n",
      "Episode: 250, Average Reward: -8\n",
      "Episode: 275, Average Reward: 5\n",
      "Episode: 300, Average Reward: 20\n",
      "Episode: 325, Average Reward: 12\n",
      "Episode: 350, Average Reward: 8\n",
      "Episode: 375, Average Reward: 25\n",
      "Episode: 400, Average Reward: 39\n",
      "Episode: 425, Average Reward: 49\n",
      "Episode: 450, Average Reward: 66\n",
      "Episode: 475, Average Reward: 73\n",
      "Episode: 500, Average Reward: 77\n",
      "Episode: 525, Average Reward: 104\n",
      "Episode: 550, Average Reward: 139\n",
      "Episode: 575, Average Reward: 153\n",
      "Episode: 600, Average Reward: 168\n",
      "Episode: 625, Average Reward: 181\n",
      "Episode: 650, Average Reward: 212\n",
      "Episode: 675, Average Reward: 253\n",
      "Episode: 700, Average Reward: 248\n",
      "Episode: 725, Average Reward: 261\n",
      "Episode: 750, Average Reward: 313\n",
      "Episode: 775, Average Reward: 324\n",
      "Episode: 800, Average Reward: 357\n",
      "Episode: 825, Average Reward: 410\n",
      "Episode: 850, Average Reward: 364\n",
      "Episode: 875, Average Reward: 352\n",
      "Episode: 900, Average Reward: 434\n",
      "Episode: 925, Average Reward: 514\n",
      "Episode: 950, Average Reward: 529\n",
      "Episode: 975, Average Reward: 509\n",
      "Episode: 1000, Average Reward: 534\n",
      "Episode: 1025, Average Reward: 572\n",
      "Episode: 1050, Average Reward: 531\n",
      "Episode: 1075, Average Reward: 485\n",
      "Episode: 1100, Average Reward: 486\n",
      "Episode: 1125, Average Reward: 526\n",
      "Episode: 1150, Average Reward: 584\n",
      "Episode: 1175, Average Reward: 621\n",
      "Episode: 1200, Average Reward: 668\n",
      "Episode: 1225, Average Reward: 615\n",
      "Episode: 1250, Average Reward: 606\n",
      "Episode: 1275, Average Reward: 680\n",
      "Episode: 1300, Average Reward: 665\n",
      "Episode: 1325, Average Reward: 711\n",
      "Episode: 1350, Average Reward: 793\n",
      "Episode: 1375, Average Reward: 839\n",
      "Episode: 1400, Average Reward: 838\n",
      "Episode: 1425, Average Reward: 817\n",
      "Episode: 1450, Average Reward: 747\n",
      "Episode: 1475, Average Reward: 729\n",
      "Episode: 1500, Average Reward: 936\n",
      "Episode: 1525, Average Reward: 1059\n",
      "Episode: 1550, Average Reward: 1054\n",
      "Episode: 1575, Average Reward: 1133\n",
      "Episode: 1600, Average Reward: 1303\n",
      "Episode: 1625, Average Reward: 1411\n",
      "Episode: 1650, Average Reward: 1507\n",
      "Episode: 1675, Average Reward: 1571\n",
      "Episode: 1700, Average Reward: 1549\n",
      "Episode: 1725, Average Reward: 1603\n",
      "Episode: 1750, Average Reward: 1776\n",
      "Episode: 1775, Average Reward: 1813\n",
      "Episode: 1800, Average Reward: 1685\n",
      "Episode: 1825, Average Reward: 1745\n",
      "Episode: 1850, Average Reward: 1886\n",
      "Episode: 1875, Average Reward: 1799\n",
      "Episode: 1900, Average Reward: 2042\n",
      "Episode: 1925, Average Reward: 2040\n",
      "Episode: 1950, Average Reward: 1701\n",
      "Episode: 1975, Average Reward: 2018\n",
      "Episode: 2000, Average Reward: 2514\n",
      "Episode: 2025, Average Reward: 3012\n",
      "Episode: 2050, Average Reward: 2772\n",
      "Episode: 2075, Average Reward: 3666\n",
      "Episode: 2100, Average Reward: 4795\n",
      "Episode: 2125, Average Reward: 5657\n",
      "Episode: 2150, Average Reward: 7059\n",
      "Episode: 2175, Average Reward: 17056\n",
      "Episode: 2200, Average Reward: 15747\n",
      "Episode: 2225, Average Reward: 4755\n",
      "Episode: 2250, Average Reward: 4947\n",
      "Episode: 2275, Average Reward: 6880\n",
      "Episode: 2300, Average Reward: 21695\n",
      "Episode: 2325, Average Reward: 19060\n",
      "Threshold reached at Episode 2334 with Reward: 1540542.0669553487\n",
      "Threshold reached at Episode 2335 with Reward: 685535.5115214087\n",
      "Threshold reached at Episode 2336 with Reward: 370358.2651851876\n",
      "Threshold reached at Episode 2337 with Reward: 6471719.718824653\n"
     ]
    }
   ],
   "source": [
    "wrapped_env = gym.wrappers.RecordEpisodeStatistics(env, 50)  # Wrap the environment to record statistics\n",
    "\n",
    "obs_space_dims = env.observation_space.shape[0]  # Dimension of the observation space\n",
    "action_space_dims = env.action_space.shape[0]  # Dimension of the action space\n",
    "agent = Agent(obs_space_dims, action_space_dims)  # Instantiate the agent\n",
    "\n",
    "total_num_episodes = int(2338)  # Total number of episodes\n",
    "reward_threshold = 200000   \n",
    "# Set seed\n",
    "seed = 1\n",
    "torch.manual_seed(seed)\n",
    "random.seed(seed)\n",
    "np.random.seed(seed)\n",
    "agent = Agent(obs_space_dims, action_space_dims)\n",
    "\n",
    "reward_over_episodes = []\n",
    "\n",
    "# Training loop\n",
    "for episode in range(total_num_episodes):\n",
    "    obs, info = wrapped_env.reset(seed=seed)  # Reset the environment at the start of each episode\n",
    "    done = False\n",
    "    episode_rewards = []\n",
    "    episode_log_probs = []\n",
    "    while not done:\n",
    "        action = agent.sample_action(obs)  # Sample an action based on the current observation\n",
    "        obs, reward, terminated, truncated, _ = wrapped_env.step(action)  # Take the action in the environment\n",
    "        # The collection of rewards and log probabilities should happen within the loop.\n",
    "        agent.rewards.append(reward)\n",
    "        episode_rewards.append(reward)\n",
    "        done = terminated or truncated  # Check if the episode has terminated\n",
    "    \n",
    "    total_reward = sum(episode_rewards)\n",
    "    reward_over_episodes.append(wrapped_env.return_queue[-1])\n",
    "    agent.update()  # Update the policy based on the episode's experience\n",
    "\n",
    "    if total_reward >= reward_threshold:\n",
    "        print(f\"Threshold reached at Episode {episode} with Reward: {total_reward}\")\n",
    "        torch.save(agent.policy_network.state_dict(), f\"inverted_pendulum_RLmodel_{episode}.pth\")\n",
    "            \n",
    "        \n",
    "    if episode % 25 == 0:\n",
    "        avg_reward = int(np.mean(reward_over_episodes[-50:]))  # Calculate the average reward for the last 50 episodes\n",
    "        print(f\"Episode: {episode}, Average Reward: {avg_reward}\")\n"
   ]
  },
  {
   "cell_type": "markdown",
   "metadata": {},
   "source": [
    "## Visualization"
   ]
  },
  {
   "cell_type": "code",
   "execution_count": 19,
   "metadata": {},
   "outputs": [
    {
     "data": {
      "image/png": "[encoded data removed]",
      "text/plain": [
       "<Figure size 640x480 with 1 Axes>"
      ]
     },
     "metadata": {},
     "output_type": "display_data"
    }
   ],
   "source": [
    "import matplotlib.pyplot as plt\n",
    "import pandas as pd\n",
    "import seaborn as sns\n",
    "reward_over_episodes = [float(reward) for reward in reward_over_episodes]\n",
    "df = pd.DataFrame({'episodes': range(total_num_episodes), 'reward': reward_over_episodes})\n",
    "sns.set(style=\"darkgrid\", context=\"talk\", palette=\"rainbow\")\n",
    "sns.lineplot(x=\"episodes\", y=\"reward\", data=df).set(\n",
    "    title=\"REINFORCE Training on InvertedPendulum-v4\",\n",
    "    xlabel=\"Episode\",\n",
    "    ylabel=\"Total Reward\"\n",
    ")\n",
    "plt.show()"
   ]
  }
 ],
 "metadata": {
  "kernelspec": {
   "display_name": "test",
   "language": "python",
   "name": "python3"
  },
  "language_info": {
   "codemirror_mode": {
    "name": "ipython",
    "version": 3
   },
   "file_extension": ".py",
   "mimetype": "text/x-python",
   "name": "python",
   "nbconvert_exporter": "python",
   "pygments_lexer": "ipython3",
   "version": "3.8.19"
  }
 },
 "nbformat": 4,
 "nbformat_minor": 2
}
